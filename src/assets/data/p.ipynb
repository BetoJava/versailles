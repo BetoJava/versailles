{
 "cells": [
  {
   "cell_type": "code",
   "execution_count": null,
   "id": "b10bc9e7",
   "metadata": {},
   "outputs": [
    {
     "name": "stdout",
     "output_type": "stream",
     "text": [
      "19\n"
     ]
    }
   ],
   "source": [
    "import json\n",
    "# open activity_swipe_info.json utf8\n",
    "\n",
    "data = json.load(open(\"activity_swipe_info.json\", \"r\", encoding=\"utf-8\"))\n",
    "\n",
    "list_to_keep = [\"12\", \"5\", \"43\", \"15\", \"3\", \"46\", \"36\", \"11\", \"18\", \"6\", \n",
    "  \"1\", \"16\", \"8\", \"63\", \"34\", \"25\", \"42\", \"57\", \"30\"]\n",
    "\n",
    "# only keep the fields \"activityId\", \"name\", catchy_description and reason\n",
    "data = [{\n",
    "    \"activityId\": item[\"activityId\"],\n",
    "    \"name\": item[\"name\"],\n",
    "    \"catchy_description\": item[\"catchy_description\"],\n",
    "    \"reason\": item[\"reason\"]\n",
    "} for item in data if \"catchy_description\" in item and item[\"activityId\"] in list_to_keep]\n",
    "\n",
    "\n",
    "\n",
    "# save\n",
    "with open(\"activity_swipe_info_clean_.json\", \"w\", encoding=\"utf-8\") as f:\n",
    "    json.dump(data, f, indent=4, ensure_ascii=False)\n",
    "\n",
    "\n"
   ]
  }
 ],
 "metadata": {
  "kernelspec": {
   "display_name": "Python 3",
   "language": "python",
   "name": "python3"
  },
  "language_info": {
   "codemirror_mode": {
    "name": "ipython",
    "version": 3
   },
   "file_extension": ".py",
   "mimetype": "text/x-python",
   "name": "python",
   "nbconvert_exporter": "python",
   "pygments_lexer": "ipython3",
   "version": "3.11.5"
  }
 },
 "nbformat": 4,
 "nbformat_minor": 5
}
